{
 "cells": [
  {
   "cell_type": "code",
   "execution_count": 2,
   "metadata": {},
   "outputs": [],
   "source": [
    "import cv2\n",
    "from test_detector import detector\n",
    "import numpy as np"
   ]
  },
  {
   "cell_type": "code",
   "execution_count": null,
   "metadata": {},
   "outputs": [],
   "source": [
    "\n",
    "\n",
    "flag = 2\n",
    "det_path = './det/{}/'.format(flag)\n",
    "\n",
    "Detect = detector(det_path, confidence=0.8)\n",
    "for i in range(9 + flag):\n",
    "    for j in range(9 + flag):\n",
    "        Detect.read_images('./cutted/{0}/{1}_{2}_{3}.jpg'.format(flag, flag, i, j))\n",
    "        Detect.detect_objects()\n",
    "        Detect.output_result()\n"
   ]
  },
  {
   "cell_type": "code",
   "execution_count": 16,
   "metadata": {},
   "outputs": [],
   "source": [
    "\n",
    "# todo 读取输出的数据\n",
    "result = np.loadtxt('./results/original_result{}.csv'.format(flag), dtype=int, delimiter=',')\n",
    "np.savetxt('./results/final_result{}.csv'.format(flag), result.reshape(-1, 8), fmt='%d', delimiter=',')\n",
    "\n",
    "# todo 将所有bbox坐标转化为全局坐标，再 1、根据IOU去重 2、合并同一物体不同部位的bbox"
   ]
  },
  {
   "cell_type": "code",
   "execution_count": 14,
   "metadata": {},
   "outputs": [],
   "source": [
    "flag = 1"
   ]
  }
 ],
 "metadata": {
  "kernelspec": {
   "display_name": "base",
   "language": "python",
   "name": "python3"
  },
  "language_info": {
   "codemirror_mode": {
    "name": "ipython",
    "version": 3
   },
   "file_extension": ".py",
   "mimetype": "text/x-python",
   "name": "python",
   "nbconvert_exporter": "python",
   "pygments_lexer": "ipython3",
   "version": "3.8.8"
  },
  "orig_nbformat": 4,
  "vscode": {
   "interpreter": {
    "hash": "88279d2366fe020547cde40dd65aa0e3aa662a6ec1f3ca12d88834876c85e1a6"
   }
  }
 },
 "nbformat": 4,
 "nbformat_minor": 2
}
