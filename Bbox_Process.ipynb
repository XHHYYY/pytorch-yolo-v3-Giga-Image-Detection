{
 "cells": [
  {
   "cell_type": "code",
   "execution_count": 1,
   "metadata": {},
   "outputs": [],
   "source": [
    "import numpy as np\n",
    "import cv2\n",
    "import json\n",
    "from typing import List"
   ]
  },
  {
   "cell_type": "code",
   "execution_count": 2,
   "metadata": {},
   "outputs": [],
   "source": [
    "class check_img_Exception(Exception):\n",
    "    def __init__(self, *args: object) -> None:\n",
    "        super().__init__(*args)\n",
    "        self.name = args[0]\n",
    "        \n",
    "\n",
    "\n",
    "class Bbox():\n",
    "    def __init__(self, data: np.ndarray) -> None:\n",
    "        self.c1 = data[0:2]\n",
    "        self.c2 = data[2:4]\n",
    "        self.label = data[4]\n",
    "        self.Iposi = data[-2:]\n",
    "\n",
    "\n",
    "class block_image():\n",
    "    def __init__(self, bbox: List[Bbox]) -> None:\n",
    "        self.Bboxes = bbox\n",
    "        if len(self.Bboxes) != len(list(filter(lambda x: (x.Iposi == self.Bboxes[0].Iposi).all(), self.Bboxes))):\n",
    "            raise check_img_Exception('Contain Bbox from other image!')\n",
    "        self.position = self.Bboxes[0].Iposi\n",
    "    \n",
    "    "
   ]
  },
  {
   "cell_type": "code",
   "execution_count": 26,
   "metadata": {},
   "outputs": [],
   "source": [
    "def run_process(good_Bbox: block_image, block: block_image, down: block_image,right: block_image,\n",
    "                right_up: block_image, right_down: block_image, left_down: block_image) -> List[Bbox]:\n",
    "    '''\n",
    "    # 功能说明\n",
    "    ## 输入\n",
    "    - 待处理图像\n",
    "    - 第一组的下图、右图\n",
    "    - 第二组的左下、右下、右上图\n",
    "    ## 结果\n",
    "    - 删除割裂Bbox\n",
    "    - 保留原图完整Bbox\n",
    "    - 记录第二组图完整的Bbox并返回\n",
    "    \n",
    "    # 注意\n",
    "    未考虑双图冒险及人物过大导致的一个人在两组图中均有割裂的问题\n",
    "    '''\n",
    "    \n",
    "    # flag = 0,1对应下右\n",
    "    # 逻辑：对待处理图像：检查下方和右方图像匹配bbox，存在匹配则先使用第二组图像去割裂\n",
    "    # todo 暂时不考虑双图冒险\n",
    "    # 2675 * 1505\n",
    "    \n",
    "    with open('./results/config.json', 'r') as f:\n",
    "        config = json.load(f)\n",
    "    \n",
    "    # down:\n",
    "    if down is not None:\n",
    "        pro_current_list = list(map(lambda x: x.c1[1]>0.9*config['h'], block.Bboxes))\n",
    "        pro_down_list    = list(map(lambda x: x.c2[1]<0.1*config['h'], down.Bboxes))\n",
    "        # todo 已忽略双图冒险\n",
    "        pro_ld_list      = list(map(lambda x: x.c1[1]<0.5*config['h'] and x.c2[1]>0.5*config['h'] and x.c1[0]>0.5*config['w'], left_down.Bboxes))\n",
    "        pro_rd_list      = list(map(lambda x: x.c1[1]<0.5*config['h'] and x.c2[1]>0.5*config['h'] and x.c1[0]>0.5*config['w'], right_down.Bboxes))\n",
    "        \n",
    "        # left down:\n",
    "        for candidate in pro_ld_list:\n",
    "            # relative position\n",
    "            p1 = np.zeros((1,2))\n",
    "            p2 = np.zeros((1,2))\n",
    "            p1[0] = candidate.c1[0] - config['w'] // 2\n",
    "            p1[1] = candidate.c1[1] + config['h'] // 2\n",
    "            p2[0] = candidate.c2[0] - config['w'] // 2\n",
    "            p2[1] = candidate.c2[1] + config['h'] // 2\n",
    "            \n",
    "            # del bad in current image\n",
    "            for to_del in pro_current_list:\n",
    "                if (to_del.c1[0] - p1[0])**2 + (to_del.c1[1] - p1[1])**2 < 10000:\n",
    "                    for i in range(len(block.Bboxes)):\n",
    "                        if (block.Bboxes[i].c1 == p1).all():\n",
    "                            block.Bboxes.pop(i)\n",
    "                            good_Bbox.append(candidate)\n",
    "                            break\n",
    "                            \n",
    "            # del bad in down image\n",
    "            for to_del in pro_down_list:\n",
    "                if (to_del.c2[0] - p2[0])**2 + (to_del.c2[1] + config['h'] - p2[1])**2 < 10000:\n",
    "                    for i in range(len(down.Bboxes)):\n",
    "                        if (down.Bboxes[i].c1 == p1).all():\n",
    "                            down.Bboxes.pop(i)\n",
    "        \n",
    "                            \n",
    "                            \n",
    "        # right down:\n",
    "        for candidate in pro_rd_list:\n",
    "            # relative position\n",
    "            p1 = np.zeros((1,2))\n",
    "            p2 = np.zeros((1,2))\n",
    "            p1[0] = candidate.c1[0] + config['w'] // 2\n",
    "            p1[1] = candidate.c1[1] + config['h'] // 2\n",
    "            p2[0] = candidate.c2[0] + config['w'] // 2\n",
    "            p2[1] = candidate.c2[1] + config['h'] // 2\n",
    "            \n",
    "            # del bad in current image\n",
    "            for to_del in pro_current_list:\n",
    "                if (to_del.c1[0] - p1[0])**2 + (to_del.c1[1] - p1[1])**2 < 10000:\n",
    "                    for i in range(len(block.Bboxes)):\n",
    "                        if (block.Bboxes[i].c1 == p1).all():\n",
    "                            block.Bboxes.pop(i)\n",
    "                            \n",
    "            # del bad in down image\n",
    "            for to_del in pro_down_list:\n",
    "                if (to_del.c2[0] - p2[0])**2 + (to_del.c2[1] + config['h'] - p2[1])**2 < 10000:\n",
    "                    for i in range(len(down.Bboxes)):\n",
    "                        if (down.Bboxes[i].c1 == p1).all():\n",
    "                            down.Bboxes.pop(i)\n",
    "                            \n",
    "    # right:\n",
    "    if right is not None:\n",
    "        pro_current_list = list(map(lambda x: x.c2[0]>0.9*config['w'], block.Bboxes))\n",
    "        pro_right_list   = list(map(lambda x: x.c1[0]<0.1*config['w'], right.Bboxes))\n",
    "        # todo 已忽略双图冒险\n",
    "        # 右上右下\n",
    "        pro_ru_list      = list(map(lambda x: x.c1[0]<0.5*config['w'] and x.c2[0]>0.5*config['w'] and x.c1[1]>0.5*config['h'], right_up.Bboxes))\n",
    "        pro_rd_list      = list(map(lambda x: x.c1[0]<0.5*config['w'] and x.c2[0]>0.5*config['w'] and x.c1[1]>0.5*config['h'], right_down.Bboxes))\n",
    "        \n",
    "        # left down:\n",
    "        for candidate in pro_ru_list:\n",
    "            # relative position\n",
    "            p1 = np.zeros((1,2))\n",
    "            p2 = np.zeros((1,2))\n",
    "            p1[0] = candidate.c1[0] + config['w'] // 2\n",
    "            p1[1] = candidate.c1[1] - config['h'] // 2\n",
    "            p2[0] = candidate.c2[0] + config['w'] // 2\n",
    "            p2[1] = candidate.c2[1] - config['h'] // 2\n",
    "            \n",
    "            # del bad in current image\n",
    "            for to_del in pro_current_list:\n",
    "                if (to_del.c1[0] - p1[0])**2 + (to_del.c1[1] - p1[1])**2 < 10000:\n",
    "                    for i in range(len(block.Bboxes)):\n",
    "                        if (block.Bboxes[i].c1 == p1).all():\n",
    "                            block.Bboxes.pop(i)\n",
    "                            good_Bbox.append(candidate)\n",
    "                            break\n",
    "                            \n",
    "            # del bad in down image\n",
    "            for to_del in pro_right_list:\n",
    "                if (to_del.c2[0] - p2[0])**2 + (to_del.c2[1] + config['w'] - p2[1])**2 < 10000:\n",
    "                    for i in range(len(down.Bboxes)):\n",
    "                        if (down.Bboxes[i].c1 == p1).all():\n",
    "                            down.Bboxes.pop(i)\n",
    "                            \n",
    "                            \n",
    "        # right down:\n",
    "        for candidate in pro_rd_list:\n",
    "            # relative position\n",
    "            p1 = np.zeros((1,2))\n",
    "            p2 = np.zeros((1,2))\n",
    "            p1[0] = candidate.c1[0] + config['w'] // 2\n",
    "            p1[1] = candidate.c1[1] + config['h'] // 2\n",
    "            p2[0] = candidate.c2[0] + config['w'] // 2\n",
    "            p2[1] = candidate.c2[1] + config['h'] // 2\n",
    "            \n",
    "            # del bad in current image\n",
    "            for to_del in pro_current_list:\n",
    "                if (to_del.c1[0] - p1[0])**2 + (to_del.c1[1] - p1[1])**2 < 10000:\n",
    "                    for i in range(len(block.Bboxes)):\n",
    "                        if (block.Bboxes[i].c1 == p1).all():\n",
    "                            block.Bboxes.pop(i)\n",
    "                            \n",
    "            # del bad in down image\n",
    "            for to_del in pro_right_list:\n",
    "                if (to_del.c2[0] - p2[0])**2 + (to_del.c2[1] + config['w'] - p2[1])**2 < 10000:\n",
    "                    for i in range(len(down.Bboxes)):\n",
    "                        if (down.Bboxes[i].c1 == p1).all():\n",
    "                            down.Bboxes.pop(i)\n",
    "            \n",
    "            \n",
    "            \n",
    "    return good_Bbox\n",
    "\n",
    "\n",
    "\n",
    "                # todo 实现返回所有列表（可行性？）\n",
    "                # todo 实现距离判断与删除相应Bbox\n"
   ]
  },
  {
   "cell_type": "code",
   "execution_count": 22,
   "metadata": {},
   "outputs": [],
   "source": [
    "temp_data = np.loadtxt('./results/final_result1.csv', dtype=int, delimiter=',')\n",
    "h, _ = temp_data.shape\n",
    "Bboxes1 = [Bbox(temp_data[i]) for i in range(h)]\n",
    "\n",
    "temp_data = np.loadtxt('./results/final_result2.csv', dtype=int, delimiter=',')\n",
    "h, _ = temp_data.shape\n",
    "Bboxes2 = [Bbox(temp_data[i]) for i in range(h)]\n",
    "\n",
    "blocks1 = [[None] * 10 for _ in range(10)]\n",
    "blocks2 = [[None] * 11 for _ in range(11)]\n",
    "\n",
    "block_bbox_list = []\n",
    "for i in Bboxes1:\n",
    "    if block_bbox_list == []:\n",
    "        block_bbox_list = [i]\n",
    "    elif (block_bbox_list[0].Iposi == i.Iposi).all():\n",
    "        block_bbox_list.append(i)\n",
    "    else:\n",
    "        blocks1[block_bbox_list[0].Iposi[0]][block_bbox_list[0].Iposi[1]] = block_image(block_bbox_list)\n",
    "        block_bbox_list = []\n",
    "        \n",
    "block_bbox_list = []\n",
    "for i in Bboxes2:\n",
    "    if block_bbox_list == []:\n",
    "        block_bbox_list = [i]\n",
    "    elif (block_bbox_list[0].Iposi == i.Iposi).all():\n",
    "        block_bbox_list.append(i)\n",
    "    else:\n",
    "        blocks2[block_bbox_list[0].Iposi[0]][block_bbox_list[0].Iposi[1]] = block_image(block_bbox_list)\n",
    "        block_bbox_list = []\n",
    "        \n",
    "# 已将所有bbox对象存入block_img对象，再将对应block存入blocks列表矩阵中\n",
    "# todo 完成run_process，将blocks列表矩阵中的对象逐个送入其中处理bbox"
   ]
  },
  {
   "cell_type": "code",
   "execution_count": null,
   "metadata": {},
   "outputs": [],
   "source": [
    "good_Bbox = []\n",
    "for i in range(10):\n",
    "    for j in range(10):\n",
    "        block   = Bboxes1[i][j]\n",
    "        up      = Bboxes1[i-1][j] if i>0 else None\n",
    "        right   = Bboxes1[i][j+1] if j<9 else None\n",
    "        down    = Bboxes1[i+1][j] if i<9 else None\n",
    "        left    = Bboxes1[i][j-1] if j>0 else None\n",
    "        lu = Bboxes2[i][j]\n",
    "        ru = Bboxes2[i][j+1]\n",
    "        rd = Bboxes2[i+1][j+1]\n",
    "        ld = Bboxes2[i+1][j]\n",
    "        run_process(good_Bbox, block, down, right, ru, rd, ld)\n"
   ]
  },
  {
   "attachments": {},
   "cell_type": "markdown",
   "metadata": {},
   "source": [
    "## PlayGround"
   ]
  },
  {
   "cell_type": "code",
   "execution_count": 3,
   "metadata": {},
   "outputs": [
    {
     "data": {
      "text/plain": [
       "False"
      ]
     },
     "execution_count": 3,
     "metadata": {},
     "output_type": "execute_result"
    }
   ],
   "source": [
    "(1,2) == (1,3)"
   ]
  },
  {
   "cell_type": "code",
   "execution_count": null,
   "metadata": {},
   "outputs": [],
   "source": [
    "# 相对坐标转绝对坐标：\n",
    "# temp_data[:, 0] = temp_data[:, 0] + temp_data[:, -1] * config['w'] - config['w']/2\n",
    "# temp_data[:, 2] = temp_data[:, 2] + temp_data[:, -1] * config['w'] - config['w']/2\n",
    "# temp_data[:, 1] = temp_data[:, 1] + temp_data[:, -2] * config['h'] - config['h']/2\n",
    "# temp_data[:, 3] = temp_data[:, 3] + temp_data[:, -2] * config['h'] - config['h']/2"
   ]
  },
  {
   "cell_type": "code",
   "execution_count": 6,
   "metadata": {},
   "outputs": [
    {
     "ename": "check_img",
     "evalue": "Wrong!",
     "output_type": "error",
     "traceback": [
      "\u001b[1;31m---------------------------------------------------------------------------\u001b[0m",
      "\u001b[1;31mcheck_img\u001b[0m                                 Traceback (most recent call last)",
      "\u001b[1;32md:\\课程文件\\学期5.0课程文件\\媒认\\yolov3\\pytorch-yolo-v3\\Bbox_Process.ipynb Cell 7\u001b[0m in \u001b[0;36m<module>\u001b[1;34m\u001b[0m\n\u001b[0;32m      <a href='vscode-notebook-cell:/d%3A/%E8%AF%BE%E7%A8%8B%E6%96%87%E4%BB%B6/%E5%AD%A6%E6%9C%9F5.0%E8%AF%BE%E7%A8%8B%E6%96%87%E4%BB%B6/%E5%AA%92%E8%AE%A4/yolov3/pytorch-yolo-v3/Bbox_Process.ipynb#X10sZmlsZQ%3D%3D?line=2'>3</a>\u001b[0m         \u001b[39msuper\u001b[39m()\u001b[39m.\u001b[39m\u001b[39m__init__\u001b[39m(\u001b[39m*\u001b[39margs)\n\u001b[0;32m      <a href='vscode-notebook-cell:/d%3A/%E8%AF%BE%E7%A8%8B%E6%96%87%E4%BB%B6/%E5%AD%A6%E6%9C%9F5.0%E8%AF%BE%E7%A8%8B%E6%96%87%E4%BB%B6/%E5%AA%92%E8%AE%A4/yolov3/pytorch-yolo-v3/Bbox_Process.ipynb#X10sZmlsZQ%3D%3D?line=3'>4</a>\u001b[0m         \u001b[39mself\u001b[39m\u001b[39m.\u001b[39mname \u001b[39m=\u001b[39m args[\u001b[39m0\u001b[39m]\n\u001b[1;32m----> <a href='vscode-notebook-cell:/d%3A/%E8%AF%BE%E7%A8%8B%E6%96%87%E4%BB%B6/%E5%AD%A6%E6%9C%9F5.0%E8%AF%BE%E7%A8%8B%E6%96%87%E4%BB%B6/%E5%AA%92%E8%AE%A4/yolov3/pytorch-yolo-v3/Bbox_Process.ipynb#X10sZmlsZQ%3D%3D?line=5'>6</a>\u001b[0m \u001b[39mraise\u001b[39;00m check_img(\u001b[39m'\u001b[39m\u001b[39mWrong!\u001b[39m\u001b[39m'\u001b[39m)\n",
      "\u001b[1;31mcheck_img\u001b[0m: Wrong!"
     ]
    }
   ],
   "source": [
    "class check_img(Exception):\n",
    "    def __init__(self, *args: object) -> None:\n",
    "        super().__init__(*args)\n",
    "        self.name = args[0]\n",
    "        \n",
    "raise check_img('Wrong!')"
   ]
  },
  {
   "cell_type": "code",
   "execution_count": null,
   "metadata": {},
   "outputs": [],
   "source": [
    "class Bboxes():\n",
    "    def __init__(self, path: str) -> None:\n",
    "        \n",
    "        with open('./results/config.json', 'r') as file:\n",
    "            self.config = json.load(file) # 切割数a, b, 原图大小H, W, 切割后大小h, w\n",
    "        file.close()\n",
    "        \n",
    "        temp = np.loadtxt(path, dtype=int, delimiter=',')\n",
    "        self.c1 = temp[:, 0:2]\n",
    "        self.c2 = temp[:, 2:4]\n",
    "        self.label = temp[:, 4]\n",
    "        self.position = temp[:, -2:-1]\n",
    "        \n",
    "    "
   ]
  },
  {
   "cell_type": "code",
   "execution_count": 1,
   "metadata": {},
   "outputs": [
    {
     "name": "stdout",
     "output_type": "stream",
     "text": [
      "10\n"
     ]
    }
   ],
   "source": [
    "class test():\n",
    "    def __init__(self, b) -> None:\n",
    "        self.b = b\n",
    "        \n",
    "def run_test(a: test):\n",
    "    a.b = 10\n",
    "    \n",
    "c = test(20)\n",
    "run_test(c)\n",
    "print(c.b)"
   ]
  },
  {
   "cell_type": "code",
   "execution_count": 3,
   "metadata": {},
   "outputs": [
    {
     "name": "stdout",
     "output_type": "stream",
     "text": [
      "None 0\n",
      "None 1\n",
      "None 2\n",
      "None 3\n",
      "None 4\n",
      "None 5\n",
      "None 6\n",
      "None 7\n",
      "None 8\n",
      "None 9\n"
     ]
    }
   ],
   "source": [
    "a = [None] * 10\n",
    "for i in range(10):\n",
    "    print(a[i], i)"
   ]
  }
 ],
 "metadata": {
  "kernelspec": {
   "display_name": "base",
   "language": "python",
   "name": "python3"
  },
  "language_info": {
   "codemirror_mode": {
    "name": "ipython",
    "version": 3
   },
   "file_extension": ".py",
   "mimetype": "text/x-python",
   "name": "python",
   "nbconvert_exporter": "python",
   "pygments_lexer": "ipython3",
   "version": "3.8.8"
  },
  "orig_nbformat": 4,
  "vscode": {
   "interpreter": {
    "hash": "88279d2366fe020547cde40dd65aa0e3aa662a6ec1f3ca12d88834876c85e1a6"
   }
  }
 },
 "nbformat": 4,
 "nbformat_minor": 2
}
