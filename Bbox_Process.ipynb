{
 "cells": [
  {
   "cell_type": "code",
   "execution_count": 7,
   "metadata": {},
   "outputs": [],
   "source": [
    "import numpy as np\n",
    "import cv2\n",
    "import json\n",
    "from typing import List"
   ]
  },
  {
   "cell_type": "code",
   "execution_count": 8,
   "metadata": {},
   "outputs": [],
   "source": [
    "class check_img_Exception(Exception):\n",
    "    def __init__(self, *args: object) -> None:\n",
    "        super().__init__(*args)\n",
    "        self.name = args[0]\n",
    "        \n",
    "# raise check_img('Wrong!', 'No Reason!')\n",
    "\n",
    "\n",
    "class Bbox():\n",
    "    def __init__(self, data: np.ndarray) -> None:\n",
    "        self.c1 = data[0:2]\n",
    "        self.c2 = data[2:4]\n",
    "        self.label = data[4]\n",
    "        self.Iposi = data[-2:]\n",
    "\n",
    "\n",
    "class block_image():\n",
    "    def __init__(self, bbox: List[Bbox]) -> None:\n",
    "        self.Bboxes = bbox\n",
    "        if len(self.Bboxes) != len(list(filter(lambda x: x.Iposi == self.Bboxes[0].Iposi, self.Bboxes))):\n",
    "            raise check_img_Exception('Contain Bbox from other image!')\n",
    "        self.position = self.Bboxes[0].Iposi\n",
    "    "
   ]
  },
  {
   "cell_type": "code",
   "execution_count": null,
   "metadata": {},
   "outputs": [],
   "source": [
    "def run_process(block: block_image, up: block_image, down: block_image, left: block_image, right: block_image) -> None:\n",
    "    # flag = 0,1,2,3对应上右下左\n",
    "    # 2675 * 1505\n",
    "    for flag in range(4):\n",
    "        if \n",
    "    "
   ]
  },
  {
   "cell_type": "code",
   "execution_count": 26,
   "metadata": {},
   "outputs": [],
   "source": [
    "temp_data = np.loadtxt('./results/final_result1.csv', dtype=int, delimiter=',')\n",
    "h, _ = temp_data.shape\n",
    "Bboxes1 = [Bbox(temp_data[i]) for i in range(h)]\n",
    "\n",
    "temp_data = np.loadtxt('./results/final_result2.csv', dtype=int, delimiter=',')\n",
    "h, _ = temp_data.shape\n",
    "Bboxes2 = [Bbox(temp_data[i]) for i in range(h)]\n",
    "\n",
    "\n",
    "\n",
    "\n",
    "# 实现Bbox类，所有Bbox合为Bbox对象的列表"
   ]
  },
  {
   "attachments": {},
   "cell_type": "markdown",
   "metadata": {},
   "source": [
    "## Pre-Process"
   ]
  },
  {
   "cell_type": "code",
   "execution_count": null,
   "metadata": {},
   "outputs": [],
   "source": [
    "c11 = Bboxes1[:, 0:2]\n",
    "c12 = Bboxes1[:, 2:4]\n",
    "label1 = Bboxes1[:, 4]\n",
    "position1 = Bboxes1[:, -2:]"
   ]
  },
  {
   "attachments": {},
   "cell_type": "markdown",
   "metadata": {},
   "source": [
    "## PlayGround"
   ]
  },
  {
   "cell_type": "code",
   "execution_count": null,
   "metadata": {},
   "outputs": [],
   "source": [
    "class check_img(Exception):\n",
    "    def __init__(self, *args: object) -> None:\n",
    "        super().__init__(*args)\n",
    "        self.name = args[0]\n",
    "        \n",
    "raise check_img('Wrong!')"
   ]
  },
  {
   "cell_type": "code",
   "execution_count": 2,
   "metadata": {},
   "outputs": [],
   "source": [
    "class Bboxes():\n",
    "    def __init__(self, path: str) -> None:\n",
    "        \n",
    "        with open('./results/config.json', 'r') as file:\n",
    "            self.config = json.load(file) # 切割数a, b, 原图大小H, W, 切割后大小h, w\n",
    "        file.close()\n",
    "        \n",
    "        temp = np.loadtxt(path, dtype=int, delimiter=',')\n",
    "        self.c1 = temp[:, 0:2]\n",
    "        self.c2 = temp[:, 2:4]\n",
    "        self.label = temp[:, 4]\n",
    "        self.position = temp[:, -2:-1]\n",
    "        \n",
    "    "
   ]
  },
  {
   "cell_type": "code",
   "execution_count": 6,
   "metadata": {},
   "outputs": [
    {
     "data": {
      "text/plain": [
       "[array([0, 1, 2, 3, 4, 5]),\n",
       " array([ 6,  7,  8,  9, 10, 11]),\n",
       " array([12, 13, 14, 15, 16, 17]),\n",
       " array([18, 19, 20, 21, 22, 23])]"
      ]
     },
     "execution_count": 6,
     "metadata": {},
     "output_type": "execute_result"
    }
   ],
   "source": [
    "temp = np.arange(24).reshape(4,6)\n",
    "list(filter(lambda x: np.sum(x), temp))"
   ]
  },
  {
   "cell_type": "code",
   "execution_count": 30,
   "metadata": {},
   "outputs": [],
   "source": [
    "from typing import List\n",
    "vector = List[Bbox]\n",
    "def test(temp: vector):\n",
    "    pass"
   ]
  }
 ],
 "metadata": {
  "kernelspec": {
   "display_name": "base",
   "language": "python",
   "name": "python3"
  },
  "language_info": {
   "codemirror_mode": {
    "name": "ipython",
    "version": 3
   },
   "file_extension": ".py",
   "mimetype": "text/x-python",
   "name": "python",
   "nbconvert_exporter": "python",
   "pygments_lexer": "ipython3",
   "version": "3.8.8"
  },
  "orig_nbformat": 4,
  "vscode": {
   "interpreter": {
    "hash": "88279d2366fe020547cde40dd65aa0e3aa662a6ec1f3ca12d88834876c85e1a6"
   }
  }
 },
 "nbformat": 4,
 "nbformat_minor": 2
}
