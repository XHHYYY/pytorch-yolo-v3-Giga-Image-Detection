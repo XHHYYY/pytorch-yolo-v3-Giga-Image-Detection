{
 "cells": [
  {
   "cell_type": "code",
   "execution_count": 3,
   "metadata": {},
   "outputs": [
    {
     "data": {
      "text/plain": [
       "True"
      ]
     },
     "execution_count": 3,
     "metadata": {},
     "output_type": "execute_result"
    }
   ],
   "source": [
    "import cv2\n",
    "import numpy as np\n",
    "flag = 2\n",
    "for i in range(9 + flag):\n",
    "    for j in range(9 + flag):\n",
    "        temp_img = cv2.imread('./det/{0}/det_{1}_{2}_{3}.jpg'.format(flag, flag, i, j))\n",
    "        himg = temp_img if j == 0 else np.concatenate((himg, temp_img), axis=1)\n",
    "    vimg = himg if i == 0 else np.concatenate((vimg, himg), axis=0)\n",
    "cv2.imwrite('./det/detected{}.jpg'.format(flag), vimg)"
   ]
  }
 ],
 "metadata": {
  "kernelspec": {
   "display_name": "base",
   "language": "python",
   "name": "python3"
  },
  "language_info": {
   "codemirror_mode": {
    "name": "ipython",
    "version": 3
   },
   "file_extension": ".py",
   "mimetype": "text/x-python",
   "name": "python",
   "nbconvert_exporter": "python",
   "pygments_lexer": "ipython3",
   "version": "3.8.8"
  },
  "orig_nbformat": 4,
  "vscode": {
   "interpreter": {
    "hash": "88279d2366fe020547cde40dd65aa0e3aa662a6ec1f3ca12d88834876c85e1a6"
   }
  }
 },
 "nbformat": 4,
 "nbformat_minor": 2
}
